{
 "cells": [
  {
   "cell_type": "code",
   "execution_count": 1,
   "metadata": {},
   "outputs": [],
   "source": [
    "import numpy as np\n",
    "import pandas as pd\n",
    "import matplotlib.pyplot as plt"
   ]
  },
  {
   "cell_type": "code",
   "execution_count": 2,
   "metadata": {},
   "outputs": [],
   "source": [
    "df = pd.read_csv(r\"ny_od_main_JT00_2010.csv\")"
   ]
  },
  {
   "cell_type": "code",
   "execution_count": 3,
   "metadata": {},
   "outputs": [
    {
     "data": {
      "text/html": [
       "<div>\n",
       "<style scoped>\n",
       "    .dataframe tbody tr th:only-of-type {\n",
       "        vertical-align: middle;\n",
       "    }\n",
       "\n",
       "    .dataframe tbody tr th {\n",
       "        vertical-align: top;\n",
       "    }\n",
       "\n",
       "    .dataframe thead th {\n",
       "        text-align: right;\n",
       "    }\n",
       "</style>\n",
       "<table border=\"1\" class=\"dataframe\">\n",
       "  <thead>\n",
       "    <tr style=\"text-align: right;\">\n",
       "      <th></th>\n",
       "      <th>w_geocode</th>\n",
       "      <th>h_geocode</th>\n",
       "      <th>S000</th>\n",
       "      <th>SA01</th>\n",
       "      <th>SA02</th>\n",
       "      <th>SA03</th>\n",
       "      <th>SE01</th>\n",
       "      <th>SE02</th>\n",
       "      <th>SE03</th>\n",
       "      <th>SI01</th>\n",
       "      <th>SI02</th>\n",
       "      <th>SI03</th>\n",
       "    </tr>\n",
       "  </thead>\n",
       "  <tbody>\n",
       "    <tr>\n",
       "      <th>0</th>\n",
       "      <td>360010001001004</td>\n",
       "      <td>360010001001009</td>\n",
       "      <td>1</td>\n",
       "      <td>0</td>\n",
       "      <td>1</td>\n",
       "      <td>0</td>\n",
       "      <td>0</td>\n",
       "      <td>0</td>\n",
       "      <td>1</td>\n",
       "      <td>1</td>\n",
       "      <td>0</td>\n",
       "      <td>0</td>\n",
       "    </tr>\n",
       "    <tr>\n",
       "      <th>1</th>\n",
       "      <td>360010001001004</td>\n",
       "      <td>360010001001010</td>\n",
       "      <td>1</td>\n",
       "      <td>0</td>\n",
       "      <td>1</td>\n",
       "      <td>0</td>\n",
       "      <td>0</td>\n",
       "      <td>0</td>\n",
       "      <td>1</td>\n",
       "      <td>1</td>\n",
       "      <td>0</td>\n",
       "      <td>0</td>\n",
       "    </tr>\n",
       "    <tr>\n",
       "      <th>2</th>\n",
       "      <td>360010001001004</td>\n",
       "      <td>360010001001033</td>\n",
       "      <td>1</td>\n",
       "      <td>0</td>\n",
       "      <td>1</td>\n",
       "      <td>0</td>\n",
       "      <td>0</td>\n",
       "      <td>0</td>\n",
       "      <td>1</td>\n",
       "      <td>1</td>\n",
       "      <td>0</td>\n",
       "      <td>0</td>\n",
       "    </tr>\n",
       "    <tr>\n",
       "      <th>3</th>\n",
       "      <td>360010001001004</td>\n",
       "      <td>360010014004001</td>\n",
       "      <td>1</td>\n",
       "      <td>0</td>\n",
       "      <td>1</td>\n",
       "      <td>0</td>\n",
       "      <td>0</td>\n",
       "      <td>0</td>\n",
       "      <td>1</td>\n",
       "      <td>0</td>\n",
       "      <td>1</td>\n",
       "      <td>0</td>\n",
       "    </tr>\n",
       "    <tr>\n",
       "      <th>4</th>\n",
       "      <td>360010001001004</td>\n",
       "      <td>360010015001007</td>\n",
       "      <td>1</td>\n",
       "      <td>0</td>\n",
       "      <td>1</td>\n",
       "      <td>0</td>\n",
       "      <td>0</td>\n",
       "      <td>0</td>\n",
       "      <td>1</td>\n",
       "      <td>0</td>\n",
       "      <td>1</td>\n",
       "      <td>0</td>\n",
       "    </tr>\n",
       "  </tbody>\n",
       "</table>\n",
       "</div>"
      ],
      "text/plain": [
       "         w_geocode        h_geocode  S000  SA01  SA02  SA03  SE01  SE02  SE03  \\\n",
       "0  360010001001004  360010001001009     1     0     1     0     0     0     1   \n",
       "1  360010001001004  360010001001010     1     0     1     0     0     0     1   \n",
       "2  360010001001004  360010001001033     1     0     1     0     0     0     1   \n",
       "3  360010001001004  360010014004001     1     0     1     0     0     0     1   \n",
       "4  360010001001004  360010015001007     1     0     1     0     0     0     1   \n",
       "\n",
       "   SI01  SI02  SI03  \n",
       "0     1     0     0  \n",
       "1     1     0     0  \n",
       "2     1     0     0  \n",
       "3     0     1     0  \n",
       "4     0     1     0  "
      ]
     },
     "execution_count": 3,
     "metadata": {},
     "output_type": "execute_result"
    }
   ],
   "source": [
    "df.drop(columns=['createdate'], inplace=True)\n",
    "df.head()"
   ]
  },
  {
   "cell_type": "code",
   "execution_count": 4,
   "metadata": {},
   "outputs": [],
   "source": [
    "df['w_tract'] = df['w_geocode'].astype(str).str[:11].astype(int)\n",
    "df['h_tract'] = df['h_geocode'].astype(str).str[:11].astype(int)"
   ]
  },
  {
   "cell_type": "markdown",
   "metadata": {},
   "source": [
    "w_geocode: workplace census tract code\n",
    "\n",
    "h_geocode: home census tract code\n",
    "\n",
    "S000: total number of jobs\n",
    "\n",
    "SA01: number of workers age 29 or younger\n",
    "\n",
    "SA02: number of workers age 30-54\n",
    "\n",
    "SA03: number of workers age 55 or older\n",
    "\n",
    "SE01: number of jobs with earnings 1250 or less\n",
    "\n",
    "SE02: number of jobs with earnings 1251-3333\n",
    "\n",
    "SE03: number of jobs with earnings above 3334\n",
    "\n",
    "SI01: number of jobs in goods producing industry sectors\n",
    "\n",
    "SI02: number of jobs in Trade, Transportation and Utilities\n",
    "\n",
    "SI03: number of jobs in All Other Services"
   ]
  },
  {
   "cell_type": "code",
   "execution_count": 5,
   "metadata": {},
   "outputs": [],
   "source": [
    "df_agg = df.groupby(['w_tract', 'h_tract']).sum().reset_index().drop(columns=['w_geocode', 'h_geocode'])"
   ]
  },
  {
   "cell_type": "markdown",
   "metadata": {},
   "source": [
    "Central county in Albany OMB defined MSA: Albany County, Rensselaer County, Saratoga County, Schenectady County\n",
    "\n",
    "Tracts in Albany County, Rensselaer County, Saratoga County, Schenectady County:\n",
    "* Albany county: 36001\n",
    "* Rensselaer county: 36083\n",
    "* Saratoga county: 36091\n",
    "* Schenectady county: 36093\n",
    "\n",
    "Central county in Syracuse OMB defined MSA: \n",
    "* Onondaga County 36067"
   ]
  },
  {
   "cell_type": "code",
   "execution_count": 6,
   "metadata": {},
   "outputs": [
    {
     "data": {
      "text/html": [
       "<div>\n",
       "<style scoped>\n",
       "    .dataframe tbody tr th:only-of-type {\n",
       "        vertical-align: middle;\n",
       "    }\n",
       "\n",
       "    .dataframe tbody tr th {\n",
       "        vertical-align: top;\n",
       "    }\n",
       "\n",
       "    .dataframe thead th {\n",
       "        text-align: right;\n",
       "    }\n",
       "</style>\n",
       "<table border=\"1\" class=\"dataframe\">\n",
       "  <thead>\n",
       "    <tr style=\"text-align: right;\">\n",
       "      <th></th>\n",
       "      <th>w_tract</th>\n",
       "      <th>h_tract</th>\n",
       "      <th>S000</th>\n",
       "      <th>SA01</th>\n",
       "      <th>SA02</th>\n",
       "      <th>SA03</th>\n",
       "      <th>SE01</th>\n",
       "      <th>SE02</th>\n",
       "      <th>SE03</th>\n",
       "      <th>SI01</th>\n",
       "      <th>SI02</th>\n",
       "      <th>SI03</th>\n",
       "      <th>w_county</th>\n",
       "      <th>h_county</th>\n",
       "    </tr>\n",
       "  </thead>\n",
       "  <tbody>\n",
       "    <tr>\n",
       "      <th>0</th>\n",
       "      <td>36001000100</td>\n",
       "      <td>36001000100</td>\n",
       "      <td>29</td>\n",
       "      <td>5</td>\n",
       "      <td>18</td>\n",
       "      <td>6</td>\n",
       "      <td>4</td>\n",
       "      <td>10</td>\n",
       "      <td>15</td>\n",
       "      <td>5</td>\n",
       "      <td>15</td>\n",
       "      <td>9</td>\n",
       "      <td>36001</td>\n",
       "      <td>36001</td>\n",
       "    </tr>\n",
       "    <tr>\n",
       "      <th>1</th>\n",
       "      <td>36001000100</td>\n",
       "      <td>36001000201</td>\n",
       "      <td>11</td>\n",
       "      <td>2</td>\n",
       "      <td>7</td>\n",
       "      <td>2</td>\n",
       "      <td>3</td>\n",
       "      <td>6</td>\n",
       "      <td>2</td>\n",
       "      <td>0</td>\n",
       "      <td>8</td>\n",
       "      <td>3</td>\n",
       "      <td>36001</td>\n",
       "      <td>36001</td>\n",
       "    </tr>\n",
       "    <tr>\n",
       "      <th>2</th>\n",
       "      <td>36001000100</td>\n",
       "      <td>36001000202</td>\n",
       "      <td>5</td>\n",
       "      <td>1</td>\n",
       "      <td>4</td>\n",
       "      <td>0</td>\n",
       "      <td>0</td>\n",
       "      <td>5</td>\n",
       "      <td>0</td>\n",
       "      <td>0</td>\n",
       "      <td>4</td>\n",
       "      <td>1</td>\n",
       "      <td>36001</td>\n",
       "      <td>36001</td>\n",
       "    </tr>\n",
       "    <tr>\n",
       "      <th>3</th>\n",
       "      <td>36001000100</td>\n",
       "      <td>36001000301</td>\n",
       "      <td>3</td>\n",
       "      <td>2</td>\n",
       "      <td>1</td>\n",
       "      <td>0</td>\n",
       "      <td>0</td>\n",
       "      <td>2</td>\n",
       "      <td>1</td>\n",
       "      <td>0</td>\n",
       "      <td>1</td>\n",
       "      <td>2</td>\n",
       "      <td>36001</td>\n",
       "      <td>36001</td>\n",
       "    </tr>\n",
       "    <tr>\n",
       "      <th>4</th>\n",
       "      <td>36001000100</td>\n",
       "      <td>36001000302</td>\n",
       "      <td>10</td>\n",
       "      <td>3</td>\n",
       "      <td>6</td>\n",
       "      <td>1</td>\n",
       "      <td>2</td>\n",
       "      <td>7</td>\n",
       "      <td>1</td>\n",
       "      <td>1</td>\n",
       "      <td>3</td>\n",
       "      <td>6</td>\n",
       "      <td>36001</td>\n",
       "      <td>36001</td>\n",
       "    </tr>\n",
       "  </tbody>\n",
       "</table>\n",
       "</div>"
      ],
      "text/plain": [
       "       w_tract      h_tract  S000  SA01  SA02  SA03  SE01  SE02  SE03  SI01  \\\n",
       "0  36001000100  36001000100    29     5    18     6     4    10    15     5   \n",
       "1  36001000100  36001000201    11     2     7     2     3     6     2     0   \n",
       "2  36001000100  36001000202     5     1     4     0     0     5     0     0   \n",
       "3  36001000100  36001000301     3     2     1     0     0     2     1     0   \n",
       "4  36001000100  36001000302    10     3     6     1     2     7     1     1   \n",
       "\n",
       "   SI02  SI03  w_county  h_county  \n",
       "0    15     9     36001     36001  \n",
       "1     8     3     36001     36001  \n",
       "2     4     1     36001     36001  \n",
       "3     1     2     36001     36001  \n",
       "4     3     6     36001     36001  "
      ]
     },
     "execution_count": 6,
     "metadata": {},
     "output_type": "execute_result"
    }
   ],
   "source": [
    "df_agg['w_county'] = df_agg['w_tract'].astype(str).str[:5].astype(int)\n",
    "df_agg['h_county'] = df_agg['h_tract'].astype(str).str[:5].astype(int)\n",
    "df_agg.head()"
   ]
  },
  {
   "cell_type": "code",
   "execution_count": 7,
   "metadata": {},
   "outputs": [],
   "source": [
    "df_agg['w_albany_core'] = df_agg['w_county'].apply(lambda x: 1 if x in [36001] else 0) #, 36083, 36091, 36093] else 0)\n",
    "df_agg['h_albany_core'] = df_agg['h_county'].apply(lambda x: 1 if x in [36001] else 0) #, 36083, 36091, 36093] else 0)\n",
    "df_agg['w_syracuse_core'] = df_agg['w_county'].apply(lambda x: 1 if x in [36067] else 0)\n",
    "df_agg['h_syracuse_core'] = df_agg['h_county'].apply(lambda x: 1 if x in [36067] else 0)"
   ]
  },
  {
   "cell_type": "code",
   "execution_count": 8,
   "metadata": {},
   "outputs": [],
   "source": [
    "albany_w_tracts = df_agg.query('w_albany_core==1')['w_tract'].unique()\n",
    "albany_h_tracts = df_agg.query('h_albany_core==1')['h_tract'].unique()"
   ]
  },
  {
   "cell_type": "code",
   "execution_count": 9,
   "metadata": {},
   "outputs": [
    {
     "name": "stdout",
     "output_type": "stream",
     "text": [
      "85\n"
     ]
    }
   ],
   "source": [
    "#sanity check\n",
    "assert len(albany_h_tracts) == len(albany_w_tracts), \"AssertionError: the number of w and h tracts don't match\"\n",
    "print(len(albany_h_tracts))"
   ]
  },
  {
   "cell_type": "code",
   "execution_count": 10,
   "metadata": {},
   "outputs": [],
   "source": [
    "syracuse_w_tracts = df_agg.query('w_syracuse_core==1')['w_tract'].unique()\n",
    "syracuse_h_tracts = df_agg.query('h_syracuse_core==1')['h_tract'].unique()"
   ]
  },
  {
   "cell_type": "code",
   "execution_count": 11,
   "metadata": {},
   "outputs": [
    {
     "name": "stdout",
     "output_type": "stream",
     "text": [
      "142\n"
     ]
    }
   ],
   "source": [
    "#sanity check\n",
    "assert len(syracuse_h_tracts) == len(syracuse_w_tracts), \"AssertionError: the number of w and h tracts don't match\"\n",
    "print(len(syracuse_w_tracts))"
   ]
  },
  {
   "cell_type": "code",
   "execution_count": 12,
   "metadata": {},
   "outputs": [],
   "source": [
    "df_agg_s = df_agg[['w_tract', 'h_tract', 'S000', 'w_albany_core', 'h_albany_core', 'w_syracuse_core', 'h_syracuse_core', 'w_county', 'h_county']]"
   ]
  },
  {
   "cell_type": "code",
   "execution_count": 14,
   "metadata": {},
   "outputs": [],
   "source": [
    "def analysis_for_tract(tract_number):\n",
    "    df_tract_w = df_agg_s.query(f'w_tract=={tract_number}')[['S000', 'h_county']].groupby(['h_county']).sum().reset_index()\n",
    "    df_tract_sum_w = df_tract_w['S000'].sum()\n",
    "    df_tract_w['share'] = df_tract_w['S000'] / df_tract_sum_w\n",
    "\n",
    "    df_tract_h = df_agg_s.query(f'h_tract=={tract_number}')[['S000', 'w_county']].groupby(['w_county']).sum().reset_index()\n",
    "    df_tract_sum_h = df_tract_h['S000'].sum()\n",
    "    df_tract_h['share'] = df_tract_h['S000'] / df_tract_sum_h\n",
    "\n",
    "    return df_tract_w.query('share>0.25'), df_tract_h.query('share>0.25')"
   ]
  },
  {
   "cell_type": "code",
   "execution_count": null,
   "metadata": {},
   "outputs": [
    {
     "data": {
      "text/plain": [
       "(   h_county  S000     share\n",
       " 6     36083   120  0.805369,\n",
       "     w_county  S000     share\n",
       " 0      36001   250  0.263158\n",
       " 30     36083   310  0.326316)"
      ]
     },
     "execution_count": 15,
     "metadata": {},
     "output_type": "execute_result"
    }
   ],
   "source": [
    "analysis_for_tract(36083052603) #we see that we will be able to attach this tract to the Albany core, given that 26% of people who live in it work in county 36001"
   ]
  },
  {
   "cell_type": "code",
   "execution_count": 16,
   "metadata": {},
   "outputs": [],
   "source": [
    "total_worker_per_w_tract = df_agg_s[['w_tract', 'S000']].groupby('w_tract').sum().reset_index()\n",
    "total_worker_per_h_tract = df_agg_s[['h_tract', 'S000']].groupby('h_tract').sum().reset_index()"
   ]
  },
  {
   "cell_type": "code",
   "execution_count": 17,
   "metadata": {},
   "outputs": [],
   "source": [
    "df_agg_s1 = pd.merge(df_agg_s, total_worker_per_w_tract, left_on='w_tract', right_on='w_tract', how='inner')\n",
    "df_agg_s2 = pd.merge(df_agg_s1, total_worker_per_h_tract, left_on='h_tract', right_on='h_tract', how='inner')"
   ]
  },
  {
   "cell_type": "code",
   "execution_count": 18,
   "metadata": {},
   "outputs": [],
   "source": [
    "df_agg_s2.rename(columns={'S000_x': 'S000', 'S000_y': 'S000_w_total', 'S000': 'S000_h_total'}, inplace=True)"
   ]
  },
  {
   "cell_type": "code",
   "execution_count": 20,
   "metadata": {},
   "outputs": [],
   "source": [
    "flow_matrix = df_agg_s2.pivot(index='h_tract', \n",
    "                              columns='w_tract', \n",
    "                              values='S000').fillna(0) #convert to a (#home x #work) matrix"
   ]
  },
  {
   "cell_type": "code",
   "execution_count": 21,
   "metadata": {},
   "outputs": [],
   "source": [
    "tract_home_rows = flow_matrix.index \n",
    "tract_work_cols = flow_matrix.columns\n",
    "flow_matrix_np = flow_matrix.astype(int).values #each row is a home, each column is a work\n",
    "total_home = np.sum(flow_matrix_np, axis=1)\n",
    "total_work = np.sum(flow_matrix_np, axis=0)"
   ]
  },
  {
   "cell_type": "code",
   "execution_count": 22,
   "metadata": {},
   "outputs": [],
   "source": [
    "counties_home_rows = np.array(tract_home_rows.astype(str).str[:5]).astype(int)\n",
    "counties_work_cols = np.array(tract_work_cols.astype(str).str[:5]).astype(int)"
   ]
  },
  {
   "cell_type": "code",
   "execution_count": 104,
   "metadata": {},
   "outputs": [],
   "source": [
    "core_albany_init = np.unique(np.concatenate((tract_home_rows[counties_home_rows==36001], tract_work_cols[counties_work_cols==36001]), axis=0))\n",
    "core_syracuse_init = np.unique(np.concatenate((tract_home_rows[counties_home_rows==36067], tract_work_cols[counties_work_cols==36067]), axis=0))"
   ]
  },
  {
   "cell_type": "code",
   "execution_count": 105,
   "metadata": {},
   "outputs": [],
   "source": [
    "def update_core(core, flow_matrix, tract_home_rows, tract_work_cols):\n",
    "    \"\"\"\n",
    "    This function updates the core, by adding the tracts that are not in the core but have either:\n",
    "    * >25% of people who live in the tract work in the core\n",
    "    * >25% of people who work in the tract live in the core\n",
    "    \"\"\"\n",
    "    row_index_core = np.where(np.isin(tract_home_rows, core))[0]\n",
    "    col_index_core = np.where(np.isin(tract_work_cols, core))[0]\n",
    "    total_home = np.sum(flow_matrix, axis=1)\n",
    "    total_work = np.sum(flow_matrix, axis=0)\n",
    "\n",
    "    # find indexes of rows and columns that are not in the core but fit the definition \n",
    "    indexes_rows_add_core = np.setdiff1d(np.where((flow_matrix[:, col_index_core].sum(axis=1)/total_home) > 0.26)[0], row_index_core, assume_unique=True)\n",
    "    indexes_cols_add_core = np.setdiff1d(np.where((flow_matrix[row_index_core, :].sum(axis=0)/total_work) > 0.26)[0], col_index_core, assume_unique=True)\n",
    "\n",
    "    # adds these new tracts to the core\n",
    "    new_core = np.union1d(core, np.concatenate((tract_home_rows[indexes_rows_add_core], tract_work_cols[indexes_cols_add_core]), axis=0))\n",
    "    return np.unique(new_core)"
   ]
  },
  {
   "cell_type": "code",
   "execution_count": 110,
   "metadata": {},
   "outputs": [],
   "source": [
    "def update_core_iterative(core, flow_matrix, tract_home_rows, tract_work_cols):\n",
    "    \"\"\"\n",
    "    This function updates the core iteratively until no new tracts are added\n",
    "    \"\"\"\n",
    "    core_init_length = core.shape[0]\n",
    "    while True:\n",
    "        new_core = update_core(core, flow_matrix, tract_home_rows, tract_work_cols)\n",
    "        if np.array_equal(new_core, core):\n",
    "            break\n",
    "        core = new_core\n",
    "    core_final_length = core.shape[0]\n",
    "    print(f\"Number of tracts added: {core_final_length - core_init_length}\")\n",
    "    return core"
   ]
  },
  {
   "cell_type": "code",
   "execution_count": 111,
   "metadata": {},
   "outputs": [
    {
     "name": "stdout",
     "output_type": "stream",
     "text": [
      "Number of tracts added: 299\n"
     ]
    }
   ],
   "source": [
    "core_albany = update_core_iterative(core_albany_init, flow_matrix_np, tract_home_rows, tract_work_cols)"
   ]
  },
  {
   "cell_type": "code",
   "execution_count": 112,
   "metadata": {},
   "outputs": [
    {
     "name": "stdout",
     "output_type": "stream",
     "text": [
      "Number of tracts added: 101\n"
     ]
    }
   ],
   "source": [
    "core_syracuse = update_core_iterative(core_syracuse_init, flow_matrix_np, tract_home_rows, tract_work_cols)"
   ]
  }
 ],
 "metadata": {
  "kernelspec": {
   "display_name": "hw3env",
   "language": "python",
   "name": "python3"
  },
  "language_info": {
   "codemirror_mode": {
    "name": "ipython",
    "version": 3
   },
   "file_extension": ".py",
   "mimetype": "text/x-python",
   "name": "python",
   "nbconvert_exporter": "python",
   "pygments_lexer": "ipython3",
   "version": "3.12.3"
  }
 },
 "nbformat": 4,
 "nbformat_minor": 2
}
